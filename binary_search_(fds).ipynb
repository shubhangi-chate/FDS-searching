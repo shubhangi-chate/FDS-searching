{
  "nbformat": 4,
  "nbformat_minor": 0,
  "metadata": {
    "colab": {
      "name": "binary search (fds).ipynb",
      "provenance": [],
      "collapsed_sections": [],
      "authorship_tag": "ABX9TyMhswAgzkw7eKTIZpvNRd5y"
    },
    "kernelspec": {
      "name": "python3",
      "display_name": "Python 3"
    },
    "language_info": {
      "name": "python"
    }
  },
  "cells": [
    {
      "cell_type": "code",
      "metadata": {
        "colab": {
          "base_uri": "https://localhost:8080/"
        },
        "id": "FcjzExKbSZ_A",
        "outputId": "f6032a9b-bd92-4f63-ff4e-0ca68ccd31b0"
      },
      "source": [
        "array=[]\n",
        "n = int(input(\"enter no of students:\"))\n",
        "for i in range(0, n):\n",
        "\telements= int(input(\"Enter roll numbers in sorted order: \"))\n",
        "\tarray.append(elements) \n",
        "print(\"roll numbers:\",array)\n",
        "x=int(input(\"enter roll number to search:\"))\n",
        "\n",
        "def binarySearch(array, x, low, high):\n",
        "  if high >= low:\n",
        "    mid = low + (high - low)//2\n",
        "    if array[mid] == x:\n",
        "      return mid\n",
        "    elif array[mid] > x:\n",
        "      return binarySearch(array, x, low, mid-1)\n",
        "    else:\n",
        "      return binarySearch(array, x, mid + 1, high)\n",
        "  else:\n",
        "    return -1\n",
        "\n",
        "result = binarySearch(array, x, 0, len(array)-1)\n",
        "\n",
        "if result != -1:\n",
        "    print(\"Element\",x,\"is present at index \" + str(result))\n",
        "else:\n",
        "    print(\"roll number\",x,\"not found\")"
      ],
      "execution_count": 8,
      "outputs": [
        {
          "output_type": "stream",
          "name": "stdout",
          "text": [
            "enter no of students:5\n",
            "Enter roll numbers in sorted order: 2\n",
            "Enter roll numbers in sorted order: 4\n",
            "Enter roll numbers in sorted order: 6\n",
            "Enter roll numbers in sorted order: 8\n",
            "Enter roll numbers in sorted order: 10\n",
            "roll numbers: [2, 4, 6, 8, 10]\n",
            "enter roll number to search:8\n",
            "Element 8 is present at index 3\n"
          ]
        }
      ]
    },
    {
      "cell_type": "code",
      "metadata": {
        "id": "npPMwyhjTvNC"
      },
      "source": [
        ""
      ],
      "execution_count": null,
      "outputs": []
    }
  ]
}