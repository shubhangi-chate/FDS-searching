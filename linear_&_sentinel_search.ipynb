{
  "nbformat": 4,
  "nbformat_minor": 0,
  "metadata": {
    "colab": {
      "name": "linear & sentinel search.ipynb",
      "provenance": [],
      "collapsed_sections": [],
      "authorship_tag": "ABX9TyOqx4yzY1lcPVqrTXH1vXSF"
    },
    "kernelspec": {
      "name": "python3",
      "display_name": "Python 3"
    },
    "language_info": {
      "name": "python"
    }
  },
  "cells": [
    {
      "cell_type": "code",
      "metadata": {
        "colab": {
          "base_uri": "https://localhost:8080/"
        },
        "id": "GH2xQKcOB3P0",
        "outputId": "997c65e6-d17c-4ece-b202-b3aced3f3623"
      },
      "source": [
        "\n",
        "list1=[]\n",
        "n = int(input(\"Enter number of elements: \"))\n",
        "for i in range(0, n):\n",
        "\telements= int(input(\"enter elements:\"))\n",
        "\tlist1.append(elements) \n",
        "print(\"roll numbers:\",list1)\n",
        "x=int(input(\"enter element to search in linear:\"))\n",
        "\n",
        "def linearsearch():\n",
        "    for i in range (len(list1)):\n",
        "      if list1[i] == x:\n",
        "        print(x,\"is present\")\n",
        "\n",
        "linearsearch()\t\n",
        "\n",
        "key=int(input(\"enter element to search in sentinelSearch\"))\n",
        "def sentinelSearch():\n",
        "  last = list1[n - 1]\n",
        "  list1[n - 1] = key\n",
        "  i = 0\n",
        "  while (list1[i] != key):\n",
        "    i += 1\n",
        "    list1[n - 1] = last\n",
        "  if ((i < n - 1) or (list1[n - 1] == key)):\n",
        "    print(key, \"is present at index\", i)\n",
        "  else:\n",
        "    print(\"Element Not found\")\n",
        "\n",
        "sentinelSearch()\n",
        "\n",
        "\n"
      ],
      "execution_count": 19,
      "outputs": [
        {
          "output_type": "stream",
          "name": "stdout",
          "text": [
            "Enter number of elements: 5\n",
            "enter elements:20\n",
            "enter elements:15\n",
            "enter elements:10\n",
            "enter elements:17\n",
            "enter elements:13\n",
            "roll numbers: [20, 15, 10, 17, 13]\n",
            "enter element to search in linear:10\n",
            "10 is present\n",
            "enter element to search in sentinelSearch15\n",
            "15 is present at index 1\n"
          ]
        }
      ]
    },
    {
      "cell_type": "code",
      "metadata": {
        "id": "wuXwuhYJB6C9"
      },
      "source": [
        ""
      ],
      "execution_count": 17,
      "outputs": []
    }
  ]
}